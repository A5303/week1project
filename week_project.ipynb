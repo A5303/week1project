{
  "nbformat": 4,
  "nbformat_minor": 0,
  "metadata": {
    "colab": {
      "provenance": []
    },
    "kernelspec": {
      "name": "python3",
      "display_name": "Python 3"
    },
    "language_info": {
      "name": "python"
    }
  },
  "cells": [
    {
      "cell_type": "code",
      "execution_count": 107,
      "metadata": {
        "colab": {
          "base_uri": "https://localhost:8080/",
          "height": 111
        },
        "id": "dPDFNj8ox5Et",
        "outputId": "bc19c29c-fd46-4554-f512-d0e2743c71d4"
      },
      "outputs": [
        {
          "output_type": "error",
          "ename": "IndentationError",
          "evalue": "unexpected indent (<ipython-input-107-7528ced0ae13>, line 5)",
          "traceback": [
            "\u001b[0;36m  File \u001b[0;32m\"<ipython-input-107-7528ced0ae13>\"\u001b[0;36m, line \u001b[0;32m5\u001b[0m\n\u001b[0;31m    partner_id INT,\u001b[0m\n\u001b[0m    ^\u001b[0m\n\u001b[0;31mIndentationError\u001b[0m\u001b[0;31m:\u001b[0m unexpected indent\n"
          ]
        }
      ],
      "source": [
        "!pip install ipython-sql\n",
        "%load_ext sql\n",
        "%sql sqlite:///chinook.db\n",
        "%%sql CREATE TABLE Partner_data (\n",
        "    partner_id INT,\n",
        "    partner VARCHAR(100),\n",
        "    village VARCHAR(100),\n",
        "    beneficiary INT,\n",
        "    beneficiary_type VARCHAR(50)\n",
        ");\n",
        "%%sql CREATE TABLE District_summary AS\n",
        "SELECT\n",
        "    d.DistrictName AS District_Name,\n",
        "    d.RegionName AS Region_Name,\n",
        "    SUM(b.IndividualBeneficiaries) AS No_of_Individual_Beneficiaries,\n",
        "    SUM(b.IndividualBeneficiaries) / d.TotalDistrictPopulation AS Beneficiaries_Percentage\n",
        "FROM\n",
        "    Districts d\n",
        "JOIN\n",
        "    Beneficiaries b ON d.DistrictID = b.DistrictID\n",
        "GROUP BY\n",
        "    d.DistrictName, d.Reg\n",
        "%%sql CREATE TABLE Partner_summary AS\n",
        "SELECT\n",
        "    p.PartnerName AS Partner_Name,\n",
        "    COUNT(DISTINCT v.VillageID) AS No_of_Villages_Reached\n",
        "FROM\n",
        "    Partners p\n",
        "JOIN\n",
        "    Villages v ON p.PartnerID = v.PartnerID\n",
        "GROUP BY\n",
        "    p.PartnerName;ionName;\n",
        ""
      ]
    }
  ]
}