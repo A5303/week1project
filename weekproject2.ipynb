{
  "nbformat": 4,
  "nbformat_minor": 0,
  "metadata": {
    "colab": {
      "provenance": []
    },
    "kernelspec": {
      "name": "python3",
      "display_name": "Python 3"
    },
    "language_info": {
      "name": "python"
    }
  },
  "cells": [
    {
      "cell_type": "code",
      "execution_count": 3,
      "metadata": {
        "colab": {
          "base_uri": "https://localhost:8080/",
          "height": 111
        },
        "id": "1uWzpex3VSGu",
        "outputId": "64d9c215-8830-4b4e-9acb-9d519b27bd65"
      },
      "outputs": [
        {
          "output_type": "error",
          "ename": "SyntaxError",
          "evalue": "invalid syntax (<ipython-input-3-076354505013>, line 5)",
          "traceback": [
            "\u001b[0;36m  File \u001b[0;32m\"<ipython-input-3-076354505013>\"\u001b[0;36m, line \u001b[0;32m5\u001b[0m\n\u001b[0;31m    SELECT s.*, c.email, c.phone_number, f.*\u001b[0m\n\u001b[0m           ^\u001b[0m\n\u001b[0;31mSyntaxError\u001b[0m\u001b[0;31m:\u001b[0m invalid syntax\n"
          ]
        }
      ],
      "source": [
        "%load_ext sql\n",
        "%sql\n",
        "\n",
        "%%sql CREATE VIEW full_stud_details AS\n",
        "SELECT s.*, c.email, c.phone_number, f.*\n",
        "FROM students s\n",
        "JOIN contacts c ON s.stud_id = c.stud_id\n",
        "JOIN financial_details f ON s.stud_id = f.stud_id;\n",
        "\n",
        "%%sql CREATE VIEW new_stud_details AS\n",
        "SELECT s.stud_name, s.school_id, c.email, c.phone_number\n",
        "FROM students s\n",
        "JOIN contacts c ON s.stud_id = c.stud_id;\n",
        "\n",
        "%%sql CREATE VIEW full_stud_details AS\n",
        "SELECT s.*, c.email, c.phone_number, f.*\n",
        "FROM students s\n",
        "JOIN contacts c ON s.stud_id = c.stud_id\n",
        "JOIN financial_details f ON s.stud_id = f.stud_id;\n",
        "\n",
        "%%sql UPDATE financial_details\n",
        "SET stud_name = (SELECT stud_name FROM students WHERE students.stud_id = financial_details.stud_id)\n",
        "WHERE stud_name IS NULL;\n",
        "\n",
        "%%sql CREATE VIEW financial_details_view AS\n",
        "SELECT *,\n",
        "    CASE\n",
        "        WHEN fee_paid >= current_fee THEN 'True'\n",
        "        ELSE 'False'\n",
        "    END AS fee_cleared\n",
        "FROM financial_details;\n",
        "\n",
        "%%sql CREATE VIEW fee_cleared AS\n",
        "SELECT s.national_id, s.stud_name\n",
        "FROM students s\n",
        "JOIN financial_details f ON s.stud_id = f.stud_id\n",
        "WHERE f.fee_paid >= f.current_fee;\n",
        "\n",
        "%%sql CREATE VIEW total_fee_balance AS\n",
        "SELECT\n",
        "    SUM(fee_paid) AS total_fees_paid,\n",
        "    SUM(current_fee - fee_paid) AS total_current_deficit\n",
        "FROM financial_details;\n",
        "\n",
        "%%sql CREATE VIEW home_county_count AS\n",
        "SELECT current_home_county, COUNT(*) AS student_count\n",
        "FROM students\n",
        "GROUP BY current_home_county;\n",
        "\n",
        "%%sql CREATE VIEW secondary_school_count AS\n",
        "SELECT secondary_school_county,\n",
        "    SUM(CASE WHEN gender = 'Male' THEN 1 ELSE 0 END) AS male_student_count,\n",
        "    SUM(CASE WHEN gender = 'Female' THEN 1 ELSE 0 END) AS female_student_count\n",
        "FROM students\n",
        "GROUP BY secondary_school_county;\n",
        "\n",
        "%%sql CREATE VIEW kin_percentage AS\n",
        "SELECT\n",
        "    SUM(CASE WHEN next_of_kin = 'Mother' THEN 1 ELSE 0 END) * 100.0 / COUNT(*) AS mother_percentage,\n",
        "    SUM(CASE WHEN next_of_kin = 'Father' THEN 1 ELSE 0 END) * 100.0 / COUNT(*) AS father_percentage\n",
        "FROM students;"
      ]
    }
  ]
}